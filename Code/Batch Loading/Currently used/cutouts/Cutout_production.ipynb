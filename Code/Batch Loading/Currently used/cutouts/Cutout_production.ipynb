{
 "cells": [
  {
   "cell_type": "code",
   "execution_count": 185,
   "id": "e0cfc2b0-e5c4-4044-ab6b-222e77393b4b",
   "metadata": {},
   "outputs": [],
   "source": [
    "import os\n",
    "import sys\n",
    "import h5py\n",
    "import shutil\n",
    "import pandas as pd\n",
    "from astropy.nddata.utils import Cutout2D\n",
    "from astropy.io import fits\n",
    "from astropy import table,coordinates\n",
    "from astropy import units as u\n",
    "from astropy.wcs.utils import skycoord_to_pixel\n",
    "import numpy as np\n",
    "import matplotlib.pyplot as plt\n",
    "from astropy.visualization import (ZScaleInterval, ImageNormalize)\n",
    "from astropy.visualization import make_lupton_rgb\n",
    "from astroquery.vizier import Vizier\n",
    "from collections import Counter\n",
    "from tensorflow import keras\n",
    "from astropy.wcs import WCS,utils"
   ]
  },
  {
   "cell_type": "markdown",
   "id": "6f7a233e-8bff-430d-8c15-e35c98d4e6ed",
   "metadata": {},
   "source": [
    "## Want to include more candidates:\n",
    "1. Make list of all candidates coordinates\n",
    "2. Make list of all ring galaxies\n",
    "3. Convert rad, dec, j2000 coords to x,y \n",
    "4. Get corresponding tiles\n",
    "5. Create 200x200 pixels cutouts in u,r,z bands and store them in dataset\n",
    "6. Visualize them and pick best"
   ]
  },
  {
   "cell_type": "markdown",
   "id": "898a866d-20fa-4ff8-8568-6435a8fe7092",
   "metadata": {
    "tags": []
   },
   "source": [
    "## 1. Gathering all known lenses: in currently used/labels/new lenses\n",
    "- HSC-SSP: https://arxiv.org/abs/2107.07829                              from vizier\n",
    "- HSC: https://ui.adsabs.harvard.edu/abs/2020A%26A...636A..87C/abstract  chan2020\n",
    "- HSC: https://ui.adsabs.harvard.edu/abs/2020MNRAS.494.3156J/abstract    1 lens: HSC J0904–0102 : '09:04:29.75 −01:02:28.26'\n",
    "- SDSS: https://ui.adsabs.harvard.edu/abs/2021MNRAS.502.4617T/abstract  talbot2021\n",
    "- DESI: https://ui.adsabs.harvard.edu/abs/2021arXiv210900014R/abstract   rojas2021, only \"sure lenses\"\n",
    "- CFIS papers :                                                          savary2021\n",
    "- masterlens DB or new Swiss database ?"
   ]
  },
  {
   "cell_type": "markdown",
   "id": "cb2d12f9-e5e7-438c-abe8-42d477b0ef8a",
   "metadata": {},
   "source": [
    "### Create new file with all new lens candidates: 'labels/new_lenses.csv'"
   ]
  },
  {
   "cell_type": "code",
   "execution_count": 129,
   "id": "a04574d8-5d5b-4662-9f1d-9be00d75345a",
   "metadata": {
    "tags": []
   },
   "outputs": [],
   "source": [
    "label_dir = '../labels' \n",
    "keys = ['name', 'ra', 'dec', 'grade/score'] \n",
    "\n",
    "#chan\n",
    "chan = open(label_dir + '/new lenses/chan2020.txt', 'r+')\n",
    "lines = chan.read().split('\\n')\n",
    "chan.close()\n",
    "\n",
    "chan_data = [line.split(' ')[:4] for line in lines[1:]]\n",
    "chan_df = pd.DataFrame(chan_data, columns = keys)\n",
    "\n",
    "#rojas\n",
    "rojas = open(label_dir + '/new lenses/rojas2021.txt', 'r+')\n",
    "lines = rojas.read().split('\\n')\n",
    "rojas.close()\n",
    "\n",
    "rojas_data = [line.split(' ')[1:5] for line in lines[1:]]\n",
    "rojas_df = pd.DataFrame(rojas_data, columns = keys)\n",
    "\n",
    "#savary\n",
    "savary = open(label_dir + '/new lenses/savary2021.txt', 'r+')\n",
    "lines = savary.read().split('\\n')\n",
    "savary.close()\n",
    "\n",
    "savary_data = [line.split(' ')[1:5] for line in lines[1:]]\n",
    "savary_df = pd.DataFrame(savary_data, columns = keys)\n",
    "\n",
    "#Jaelani (1 lens)\n",
    "ra_dec = coordinates.SkyCoord('09:04:29.75 −01:02:28.26', unit=(u.hourangle, u.deg))\n",
    "jae_data = [('HSCJ0904–0102', ra_dec.ra.deg, ra_dec.dec.deg, 3.0)]"
   ]
  },
  {
   "cell_type": "code",
   "execution_count": 131,
   "id": "75dbb8b4-97e4-4cfa-8bc1-2dd11b087d0b",
   "metadata": {
    "tags": []
   },
   "outputs": [],
   "source": [
    "#canameras lenses\n",
    "lenses_cana = Vizier.get_catalogs(catalog=\"J/A+A/644/A163\")[0]\n",
    "\n",
    "#extracting relevent columns\n",
    "\n",
    "cana_names = list(lenses_cana['Name'])#,'RAJ2000','DEJ2000','Grade']]\n",
    "cana_ra = np.array(list(lenses_cana['RAJ2000']))\n",
    "cana_dec = np.array(list(lenses_cana['DEJ2000']))\n",
    "cana_grade = list(lenses_cana['Grade'])\n",
    "\n",
    "#converting to ra&dec\n",
    "ra_dec_degrees = [coordinates.SkyCoord( (cana_ra[i] + ' ' + cana_dec[i]),unit=(u.hourangle, u.deg)) for i in range(0, len(cana_ra))]\n",
    "cana_ra_deg= [ coord.ra.deg  for coord in ra_dec_degrees]\n",
    "cana_dec_deg= [ coord.dec.deg for coord in ra_dec_degrees]\n",
    "\n",
    "#\n",
    "cana_data = [ (cana_names[i], cana_ra_deg[i], cana_dec_deg[i], cana_grade[i]) for i in range(len(cana_names)) ]\n",
    "\n",
    "\n",
    "jae_cana_df = pd.DataFrame(cana_data+jae_data, columns = keys)"
   ]
  },
  {
   "cell_type": "code",
   "execution_count": 132,
   "id": "4fa001be-0b82-45d6-af66-c6062c3439f6",
   "metadata": {},
   "outputs": [],
   "source": [
    "new_cand_dfs = [chan_df, rojas_df, savary_df, jae_cana_df]\n",
    "all_new_lenses = pd.concat(new_cand_dfs)\n",
    "\n",
    "#save new lenses to csv\n",
    "all_new_lenses.to_csv('../labels/new_lenses.csv')"
   ]
  },
  {
   "cell_type": "markdown",
   "id": "52019705-f210-45b5-b010-9b80cee986cd",
   "metadata": {},
   "source": [
    "### Combine with previous candidates (ra_dec.csv) and get tile"
   ]
  },
  {
   "cell_type": "code",
   "execution_count": 189,
   "id": "9d12c10c-bb79-4dff-9192-3d3b1fa4540c",
   "metadata": {},
   "outputs": [],
   "source": [
    "keys = ['name', 'ra', 'dec', 'grade/score' , 'X', 'Y'] \n",
    "new_list = pd.read_csv('../labels/new_lenses.csv')[keys[:-2]]\n",
    "old_list = pd.read_csv('../labels/ra_dec.csv')\n",
    "\n",
    "old_with_xy = pd.DataFrame([ ['previous', old_list['ra'][i],old_list['dec'][i], '--', 'tbd', 'tbd' ] for i in range(len(old_list))], columns = keys)\n",
    "new_with_xy = pd.DataFrame([ [new_list['name'][i], new_list['ra'][i], new_list['dec'][i], new_list['grade/score'][i], 'tbd', 'tbd' ] for i in range(len(new_list))], columns = keys)\n",
    "\n",
    "#save in file\n",
    "all_lenses = pd.concat([new_with_xy, old_with_xy])\n",
    "all_lenses.to_csv('../labels/all_lenses.csv')"
   ]
  },
  {
   "cell_type": "markdown",
   "id": "705bb200-68b4-42c2-bfa6-d253a91df1b5",
   "metadata": {},
   "source": [
    "## 2. Add ring galaxies: in currently used/labels/new lenses/rings\n",
    "- PanSTARRS: https://ui.adsabs.harvard.edu/abs/2017ApJS..231....2T/abstract \n",
    "\n",
    "    185 Ring Galaxy Candidates Identified Automatically\n",
    "    \n",
    "    18 Collisional Ring Galaxies from (Madore et al. 2009) That Are Inside the Footprint of PanSTARRS DR1\n",
    "    \n",
    "- SDSS: https://ui.adsabs.harvard.edu/abs/2020MNRAS.491.3767S/abstract\n",
    "\n",
    "    443 Ring galaxies in SDSS\n",
    "    \n",
    "- DESI (same paper as in 1) <--can't find the cat"
   ]
  },
  {
   "cell_type": "code",
   "execution_count": null,
   "id": "541e7da4-75bb-4321-b09c-a8c1ce6dea9a",
   "metadata": {},
   "outputs": [],
   "source": [
    "ring1 = './labels/rings/ringsPS1.txt'\n",
    "ring1 = './labels/rings/ringsSDSS.txt'"
   ]
  },
  {
   "cell_type": "code",
   "execution_count": null,
   "id": "8a781841-1adc-4e16-be8f-60a0b725124c",
   "metadata": {},
   "outputs": [],
   "source": []
  }
 ],
 "metadata": {
  "kernelspec": {
   "display_name": "Python 3 (ipykernel)",
   "language": "python",
   "name": "python3"
  },
  "language_info": {
   "codemirror_mode": {
    "name": "ipython",
    "version": 3
   },
   "file_extension": ".py",
   "mimetype": "text/x-python",
   "name": "python",
   "nbconvert_exporter": "python",
   "pygments_lexer": "ipython3",
   "version": "3.8.2"
  }
 },
 "nbformat": 4,
 "nbformat_minor": 5
}
