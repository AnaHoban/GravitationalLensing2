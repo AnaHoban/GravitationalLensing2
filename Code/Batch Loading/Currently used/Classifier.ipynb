{
 "cells": [
  {
   "cell_type": "code",
   "execution_count": 259,
   "id": "e8b15caa-4344-49ca-a275-5596241b7956",
   "metadata": {},
   "outputs": [],
   "source": [
    "import torch \n",
    "import numpy as np\n",
    "import matplotlib.pyplot as plt\n",
    "import h5py as hf\n",
    "import pandas as pd\n",
    "\n",
    "from sklearn.preprocessing import normalize\n",
    "from sklearn.preprocessing import StandardScaler    \n",
    "from sklearn.model_selection import train_test_split\n",
    "from sklearn.metrics import confusion_matrix, classification_report"
   ]
  },
  {
   "cell_type": "markdown",
   "id": "0bb830c8-918a-42ed-8503-560a77aa8504",
   "metadata": {
    "tags": []
   },
   "source": [
    "## Dataset: using only reprensatations, only in the g r i bands for now"
   ]
  },
  {
   "cell_type": "markdown",
   "id": "cef86715-d54c-47fe-b6f2-54e0170030c3",
   "metadata": {
    "tags": []
   },
   "source": [
    "## Getting reps for lenses and non lenses"
   ]
  },
  {
   "cell_type": "code",
   "execution_count": 789,
   "id": "e416d9f7-32c4-4c83-80f3-db556a6229d0",
   "metadata": {},
   "outputs": [
    {
     "data": {
      "text/plain": [
       "<HDF5 dataset \"dec\": shape (6650000,), type \"<f8\">"
      ]
     },
     "execution_count": 789,
     "metadata": {},
     "output_type": "execute_result"
    }
   ],
   "source": [
    "all_reps['dec']"
   ]
  },
  {
   "cell_type": "code",
   "execution_count": 785,
   "id": "a33e1055-b9c2-4a41-890f-3a91d40db0d4",
   "metadata": {
    "tags": []
   },
   "outputs": [
    {
     "data": {
      "text/html": [
       "<div>\n",
       "<style scoped>\n",
       "    .dataframe tbody tr th:only-of-type {\n",
       "        vertical-align: middle;\n",
       "    }\n",
       "\n",
       "    .dataframe tbody tr th {\n",
       "        vertical-align: top;\n",
       "    }\n",
       "\n",
       "    .dataframe thead th {\n",
       "        text-align: right;\n",
       "    }\n",
       "</style>\n",
       "<table border=\"1\" class=\"dataframe\">\n",
       "  <thead>\n",
       "    <tr style=\"text-align: right;\">\n",
       "      <th></th>\n",
       "      <th>Unnamed: 0.1</th>\n",
       "      <th>Unnamed: 0</th>\n",
       "      <th>Names</th>\n",
       "      <th>RA</th>\n",
       "      <th>DEC</th>\n",
       "      <th>Classification</th>\n",
       "      <th>Tile</th>\n",
       "      <th>X</th>\n",
       "      <th>Y</th>\n",
       "      <th>band_nb</th>\n",
       "      <th>bands_list</th>\n",
       "    </tr>\n",
       "  </thead>\n",
       "  <tbody>\n",
       "    <tr>\n",
       "      <th>0</th>\n",
       "      <td>0</td>\n",
       "      <td>1</td>\n",
       "      <td>HSCJ115252+004733†</td>\n",
       "      <td>178.218</td>\n",
       "      <td>0.793</td>\n",
       "      <td>1.3900</td>\n",
       "      <td>356.182</td>\n",
       "      <td>tbd</td>\n",
       "      <td>tbd</td>\n",
       "      <td>1</td>\n",
       "      <td>u</td>\n",
       "    </tr>\n",
       "    <tr>\n",
       "      <th>1</th>\n",
       "      <td>1</td>\n",
       "      <td>7</td>\n",
       "      <td>HSCJ223406+012057</td>\n",
       "      <td>338.529</td>\n",
       "      <td>1.349</td>\n",
       "      <td>1.2400</td>\n",
       "      <td>677.183</td>\n",
       "      <td>tbd</td>\n",
       "      <td>tbd</td>\n",
       "      <td>1</td>\n",
       "      <td>u</td>\n",
       "    </tr>\n",
       "    <tr>\n",
       "      <th>2</th>\n",
       "      <td>2</td>\n",
       "      <td>8</td>\n",
       "      <td>HSCJ222801+012805</td>\n",
       "      <td>337.008</td>\n",
       "      <td>1.468</td>\n",
       "      <td>1.6000</td>\n",
       "      <td>674.183</td>\n",
       "      <td>tbd</td>\n",
       "      <td>tbd</td>\n",
       "      <td>1</td>\n",
       "      <td>u</td>\n",
       "    </tr>\n",
       "    <tr>\n",
       "      <th>3</th>\n",
       "      <td>3</td>\n",
       "      <td>13</td>\n",
       "      <td>HSCJ224221+001144</td>\n",
       "      <td>340.590</td>\n",
       "      <td>0.196</td>\n",
       "      <td>1.4100</td>\n",
       "      <td>681.180</td>\n",
       "      <td>tbd</td>\n",
       "      <td>tbd</td>\n",
       "      <td>1</td>\n",
       "      <td>u</td>\n",
       "    </tr>\n",
       "    <tr>\n",
       "      <th>4</th>\n",
       "      <td>4</td>\n",
       "      <td>14</td>\n",
       "      <td>HSCJ223359+015826</td>\n",
       "      <td>338.500</td>\n",
       "      <td>1.974</td>\n",
       "      <td>0.8500</td>\n",
       "      <td>677.184</td>\n",
       "      <td>tbd</td>\n",
       "      <td>tbd</td>\n",
       "      <td>1</td>\n",
       "      <td>u</td>\n",
       "    </tr>\n",
       "  </tbody>\n",
       "</table>\n",
       "</div>"
      ],
      "text/plain": [
       "   Unnamed: 0.1  Unnamed: 0               Names       RA    DEC  \\\n",
       "0             0           1  HSCJ115252+004733†  178.218  0.793   \n",
       "1             1           7   HSCJ223406+012057  338.529  1.349   \n",
       "2             2           8   HSCJ222801+012805  337.008  1.468   \n",
       "3             3          13   HSCJ224221+001144  340.590  0.196   \n",
       "4             4          14   HSCJ223359+015826  338.500  1.974   \n",
       "\n",
       "  Classification     Tile    X    Y  band_nb bands_list  \n",
       "0         1.3900  356.182  tbd  tbd        1          u  \n",
       "1         1.2400  677.183  tbd  tbd        1          u  \n",
       "2         1.6000  674.183  tbd  tbd        1          u  \n",
       "3         1.4100  681.180  tbd  tbd        1          u  \n",
       "4         0.8500  677.184  tbd  tbd        1          u  "
      ]
     },
     "execution_count": 785,
     "metadata": {},
     "output_type": "execute_result"
    }
   ],
   "source": [
    "# 1. get a lens cutout given ra,dec\n",
    "# 2. get representation\n",
    "# 3. Do self-similarity search\n",
    "\n",
    "#representations of 6.5 million sources\n",
    "reps_dir = './'\n",
    "reps_file = 'unions_simCLR_CFISr_HSCg_PS1i.h5'\n",
    "\n",
    "#representations\n",
    "all_reps = hf.File(reps_dir+reps_file, 'r')\n",
    "all_reps.keys()\n",
    "\n",
    "#candidate lenses in survey\n",
    "lenses_in_survey = pd.read_csv('./lenses_in_survey.csv', dtype={'Tile':str} )\n",
    "lenses_in_survey.head()\n",
    "\n"
   ]
  },
  {
   "cell_type": "code",
   "execution_count": 762,
   "id": "31189167-5f01-4457-ad42-a9cc75d1c7b6",
   "metadata": {
    "tags": []
   },
   "outputs": [
    {
     "name": "stdout",
     "output_type": "stream",
     "text": [
      "0.00129861215 is our margin of error for ra and dec shifts\n"
     ]
    }
   ],
   "source": [
    "# Now we want to find ra-dec. The resolution is 0.187 arcsecond/pixel for the CFHT (https://www.cfht.hawaii.edu/Science/CFIS/)\n",
    "# Our cutouts are 100 pixel wide so 50 on either side --> \n",
    "arcsec2deg = 0.000277778\n",
    "d = 0.187*25*arcsec2deg\n",
    "\n",
    "print('{} is our margin of error for ra and dec shifts'.format(d))\n",
    "\n",
    "#in the survey, we have these lenses:\n",
    "lens_ra  = [list(lenses_in_survey[lenses_in_survey.Tile == tile].RA)[0] for tile in tiles_overlap]\n",
    "lens_dec = [list(lenses_in_survey[lenses_in_survey.Tile == tile].DEC)[0] for tile in tiles_overlap]  \n",
    "\n",
    "#ranges\n",
    "upper_ra = np.array(lens_ra) + d\n",
    "lower_ra = np.array(lens_ra) - d\n",
    "\n",
    "upper_dec = np.array(lens_dec) + d\n",
    "lower_dec = np.array(lens_dec) - d"
   ]
  },
  {
   "cell_type": "code",
   "execution_count": 763,
   "id": "8ee5a17b-0b60-47d7-b1a7-0625368dbd2a",
   "metadata": {
    "collapsed": true,
    "jupyter": {
     "outputs_hidden": true
    },
    "tags": []
   },
   "outputs": [
    {
     "name": "stdout",
     "output_type": "stream",
     "text": [
      "98 tiles overlap\n",
      "found one!! :  129.2740349 31.2233395\n",
      "found one!! :  27.0905517 33.4052789\n",
      "found one!! :  125.3778121 37.5585529\n",
      "found one!! :  140.3866048 36.6203287\n",
      "found one!! :  140.3877956 36.6214804\n",
      "found one!! :  134.0090622 39.6871286\n",
      "found one!! :  148.1675703 34.5794813\n",
      "found one!! :  29.4733792 32.2598359\n",
      "found one!! :  148.7716434 30.5417979\n",
      "found one!! :  144.4243004 31.4659866\n",
      "found one!! :  354.5521672 30.2242603\n",
      "found one!! :  149.0556266 32.129405\n",
      "found one!! :  145.4503239 40.0180153\n",
      "found one!! :  132.0260076 33.6273957\n",
      "found one!! :  148.3996335 31.5441323\n",
      "found one!! :  148.3985766 31.5437435\n",
      "found one!! :  133.3974865 35.4473314\n",
      "found one!! :  30.7320142 30.0943373\n",
      "found one!! :  146.0493641 32.3440817\n",
      "found one!! :  130.6484226 30.3673943\n",
      "found one!! :  121.3788839 38.1565496\n",
      "found one!! :  145.3904313 34.3537773\n",
      "found one!! :  129.2002418 31.5053898\n",
      "found one!! :  33.0826121 30.5530036\n",
      "found one!! :  358.5128167 34.5546275\n",
      "found one!! :  358.513035 34.5535633\n",
      "found one!! :  30.3390834 32.4748491\n",
      "found one!! :  30.3385789 32.4761773\n",
      "found one!! :  29.7346494 30.2735706\n",
      "found one!! :  0.5358545 31.403239\n",
      "found one!! :  28.5015403 32.4316697\n",
      "found one!! :  147.0814919 37.6275453\n",
      "found one!! :  147.3808238 34.6387485\n",
      "found one!! :  135.0222555 34.1001808\n",
      "found one!! :  146.2198891 40.2997136\n",
      "found one!! :  350.6051098 34.2495275\n",
      "found one!! :  132.4005837 35.149539\n",
      "found one!! :  33.4030761 30.3012517\n",
      "found one!! :  127.6856219 32.4523847\n",
      "found one!! :  129.6056703 30.2873525\n",
      "found one!! :  129.6049149 30.2878672\n",
      "found one!! :  138.0524182 33.3766164\n"
     ]
    }
   ],
   "source": [
    "#we found the overlapping tiles to be\n",
    "ra = all_reps['ra'][:]\n",
    "dec = all_reps['dec'][:]\n",
    "tiles_encoded = all_reps['tile'][:]\n",
    "\n",
    "tiles = [tile.decode(\"utf-8\") for tile in tiles_encoded]\n",
    "        \n",
    "tiles_survey = set(list(lenses_in_survey['Tile']))\n",
    "tiles_rep = set(list(tiles))\n",
    "tiles_overlap =list(tiles_survey & tiles_rep )\n",
    "print('{} tiles overlap'.format(len(tiles_overlap)))\n",
    "\n",
    "ra_rep = all_reps['ra'][:]\n",
    "dec_rep = all_reps['dec'][:]\n",
    "tiles_encoded = all_reps['tile'][:]\n",
    "\n",
    "tile_rep = [tile.decode(\"utf-8\") for tile in tiles_encoded]\n",
    "\n",
    "count = 0\n",
    "correspondance_ra_dec = []\n",
    "lens_reps = []\n",
    "\n",
    "for i,ra in enumerate(ra_rep):\n",
    "    dec = dec_rep[i]\n",
    "    if tile_rep[i] in tiles_overlap: #look only at one of the 98 overlapping tiles\n",
    "        for j in range(len(lens_ra)): #check if it corresponds to a lens's coord\n",
    "            if ra <= upper_ra[j] and ra >= lower_ra[j] and dec <= upper_dec[j] and dec >= lower_dec[j] :\n",
    "                count += 1\n",
    "                correspondance_ra_dec.append([tile_rep[i], ra,dec])\n",
    "                lens_reps.append(all_reps['simclr_reps'][i])\n",
    "                print('found one!! : ', ra, dec)\n",
    "                break "
   ]
  },
  {
   "cell_type": "code",
   "execution_count": 707,
   "id": "b2f8e349-1f4e-44a7-8de0-d61056aca6e8",
   "metadata": {
    "jupyter": {
     "source_hidden": true
    },
    "tags": []
   },
   "outputs": [],
   "source": [
    "tile, lens_ra, lens_dec = zip(*correspondance_ra_dec)\n",
    "corr_tiles = list(tile)\n",
    "\n",
    "#select only lenses with nice arcs\n",
    "arcs_indices = [6,8,18,19,26,27,32,34,36,39,41]\n",
    "\n",
    "#now modify all arrays to correspond to this:\n",
    "corr_tiles= [corr_tiles[i] for i in arcs_indices]\n",
    "lens_ra = [lens_ra[i] for i in arcs_indices]\n",
    "lens_dec = [lens_dec[i] for i in arcs_indices]\n",
    "lens_reps = [lens_reps[i] for i in arcs_indices]"
   ]
  },
  {
   "cell_type": "code",
   "execution_count": 764,
   "id": "d1f00d0c-3f1d-4e2b-a09f-ea8c072d68e8",
   "metadata": {
    "tags": []
   },
   "outputs": [],
   "source": [
    "lens_rep = np.array(lens_reps)"
   ]
  },
  {
   "cell_type": "markdown",
   "id": "6c23fbe8-d3bd-47b0-b9c6-97a5997c0f40",
   "metadata": {
    "tags": []
   },
   "source": [
    "# Dataset\n",
    "## 1 : lens, 0: nonlens"
   ]
  },
  {
   "cell_type": "code",
   "execution_count": 793,
   "id": "e633f32d-095f-4878-8baf-8c3f0d94cf7e",
   "metadata": {},
   "outputs": [],
   "source": [
    "indices_nonlenses = np.random.randint(1, 6650000,300)\n",
    "nonlens_reps = [all_reps['simclr_reps'][i] for i in indices_nonlenses] "
   ]
  },
  {
   "cell_type": "code",
   "execution_count": 794,
   "id": "367505ca-a82e-47c1-a2fc-063e0a7e3fd4",
   "metadata": {},
   "outputs": [
    {
     "name": "stdout",
     "output_type": "stream",
     "text": [
      "42 lenses and 300 nonlenses\n"
     ]
    }
   ],
   "source": [
    "nl = len(lens_reps)\n",
    "nnl = len(nonlens_reps)\n",
    "print('{} lenses and {} nonlenses'.format(nl,nnl))\n"
   ]
  },
  {
   "cell_type": "code",
   "execution_count": 795,
   "id": "e84789a6-75f4-4c4b-8020-549cf3666fab",
   "metadata": {},
   "outputs": [],
   "source": [
    "BATCH_SIZE = 2\n",
    "N_EPOCH = 100"
   ]
  },
  {
   "cell_type": "code",
   "execution_count": 796,
   "id": "9f9a2c10-eebe-4222-ac8e-70064f86aad8",
   "metadata": {},
   "outputs": [
    {
     "name": "stdout",
     "output_type": "stream",
     "text": [
      "torch.Size([229, 2048]) torch.Size([229, 2])\n",
      "torch.Size([113, 2048]) torch.Size([113, 2])\n"
     ]
    }
   ],
   "source": [
    "#dataset\n",
    "X = np.concatenate((lens_reps, nonlens_reps))\n",
    "Y = np.array([1]*nl+[0]*nnl)\n",
    "\n",
    "#shuffle\n",
    "index_shuffle = np.arange(nl+nnl)\n",
    "np.random.shuffle(index_shuffle)\n",
    "X = X[index_shuffle]# can normalize with: normalize(X,axis=1)\n",
    "Y = Y[index_shuffle]\n",
    "\n",
    "#turn into tensor\n",
    "X.reshape(X.shape[1],X.shape[0])\n",
    "#Y.expand_dims(Y, 1)\n",
    "\n",
    "X= torch.from_numpy(X).type(torch.FloatTensor)\n",
    " \n",
    "Y = torch.from_numpy(Y).type(torch.FloatTensor)\n",
    "\n",
    "#transforming y labels to hot label\n",
    "one_hot_label = torch.nn.functional.one_hot(Y.to(torch.int64), 2)\n",
    "Y = one_hot_label.float()\n",
    "\n",
    "\n",
    "#train, test\n",
    "\n",
    "X_train, X_test, Y_train, Y_test = train_test_split(X, Y, test_size=0.33, random_state=60)\n",
    "\n",
    "print(X_train.shape, Y_train.shape)\n",
    "print(X_test.shape, Y_test.shape)"
   ]
  },
  {
   "cell_type": "code",
   "execution_count": 797,
   "id": "5f7a3ed0-188a-422a-9518-841ad8c35c97",
   "metadata": {
    "tags": []
   },
   "outputs": [],
   "source": [
    "from torch.utils.data import Dataset, DataLoader\n",
    "\n",
    "\n",
    "class TimeSeriesDataSet(Dataset):\n",
    "    \"\"\"\n",
    "    This is a custom dataset class. It can get more complex than this, but simplified so you can understand what's happening here without\n",
    "    getting bogged down by the preprocessing\n",
    "    \"\"\"\n",
    "    def __init__(self, X, Y):\n",
    "        self.X = X\n",
    "        self.Y = Y\n",
    "        if len(self.X) != len(self.Y):\n",
    "            raise Exception(\"The length of X does not match the length of Y\")\n",
    "\n",
    "    def __len__(self):\n",
    "        return len(self.X)\n",
    "\n",
    "    def __getitem__(self, index):\n",
    "    # note that this isn't randomly selecting. It's a simple get a single item that represents an x and y\n",
    "        _x = self.X[index]\n",
    "        _y = self.Y[index]\n",
    "\n",
    "        return _x, _y\n",
    "\n",
    "\n",
    "params = {'batch_size': BATCH_SIZE,\n",
    "          'shuffle': True,\n",
    "          'num_workers': 6}\n",
    "    \n"
   ]
  },
  {
   "cell_type": "code",
   "execution_count": 798,
   "id": "353cf672-5712-40b2-8baa-42e9d65cd670",
   "metadata": {},
   "outputs": [],
   "source": [
    "train_generator = DataLoader(TimeSeriesDataSet(X_train, Y_train), batch_size=BATCH_SIZE, shuffle=True)\n"
   ]
  },
  {
   "cell_type": "markdown",
   "id": "3342fab5-b1a2-4d98-b043-fe847b8d7516",
   "metadata": {
    "tags": []
   },
   "source": [
    "# Architecture of the classifier"
   ]
  },
  {
   "cell_type": "code",
   "execution_count": 799,
   "id": "233ffbb1-2881-43f9-bb24-f131aef9882d",
   "metadata": {
    "tags": []
   },
   "outputs": [],
   "source": [
    "class LinearClassifier(torch.nn.Module):\n",
    "    def __init__(self, input_dim=2048, output_dim=2):\n",
    "        super(LinearClassifier,self).__init__()\n",
    "        self.linear  = torch.nn.Linear(input_dim, output_dim)\n",
    "        \n",
    "    def forward(self, x):\n",
    "        x = self.linear(x)\n",
    "        return torch.nn.functional.sigmoid(x)"
   ]
  },
  {
   "cell_type": "markdown",
   "id": "dd6e8281-1313-4758-9366-b5a1661d3677",
   "metadata": {},
   "source": [
    "# Training"
   ]
  },
  {
   "cell_type": "code",
   "execution_count": 800,
   "id": "2db11438-117c-4203-b537-84e00cf2363c",
   "metadata": {
    "tags": []
   },
   "outputs": [],
   "source": [
    "#to use the LBFGS optimizer, need <closure>\n",
    "def fclosure():\n",
    "        output = model(x)\n",
    "        optimizer.zero_grad()\n",
    "        loss=criterion(output, y)\n",
    "        loss.backward(retain_graph=True)\n",
    "        return loss\n"
   ]
  },
  {
   "cell_type": "code",
   "execution_count": 801,
   "id": "eab6f2e5-8517-4430-aa97-7ca4f886a55f",
   "metadata": {
    "tags": []
   },
   "outputs": [
    {
     "name": "stdout",
     "output_type": "stream",
     "text": [
      "tensor([0.1400, 1.0000])\n"
     ]
    },
    {
     "name": "stderr",
     "output_type": "stream",
     "text": [
      "/opt/conda/lib/python3.9/site-packages/torch/nn/functional.py:1806: UserWarning: nn.functional.sigmoid is deprecated. Use torch.sigmoid instead.\n",
      "  warnings.warn(\"nn.functional.sigmoid is deprecated. Use torch.sigmoid instead.\")\n"
     ]
    }
   ],
   "source": [
    "model = LinearClassifier()\n",
    "relative_weights = torch.tensor([nl/nnl,nl/nl]) #https://datascience.stackexchange.com/questions/48369/what-loss-function-to-use-for-imbalanced-classes-using-pytorch\n",
    "print(relative_weights)\n",
    "criterion = torch.nn.BCEWithLogitsLoss(weight = relative_weights) \n",
    "optimizer = torch.optim.LBFGS(model.parameters(), lr = 0.01) #is the one they use in the paper #torch.optim.SGD(model.parameters(),lr = 0.1)\n",
    "\n",
    "\n",
    "all_loss = []\n",
    "for epoch in range(N_EPOCHS):\n",
    "    temp_loss = []\n",
    "    for x, y in train_generator:\n",
    "        loss = optimizer.step(fclosure)\n",
    "        temp_loss.append(loss.item())\n",
    "        \n",
    "    all_loss.append(np.mean(temp_loss))\n",
    "    #print(f\"Epoch: {epoch}, loss: {np.mean(temp_loss)}\")"
   ]
  },
  {
   "cell_type": "code",
   "execution_count": 802,
   "id": "41d6d046-8d77-413e-b50c-d746ab2b6eb1",
   "metadata": {},
   "outputs": [
    {
     "data": {
      "text/plain": [
       "[<matplotlib.lines.Line2D at 0x7f8f881cd160>]"
      ]
     },
     "execution_count": 802,
     "metadata": {},
     "output_type": "execute_result"
    },
    {
     "data": {
      "image/png": "[encoded data removed]",
      "text/plain": [
       "<Figure size 432x288 with 1 Axes>"
      ]
     },
     "metadata": {
      "needs_background": "light"
     },
     "output_type": "display_data"
    }
   ],
   "source": [
    "plt.plot(all_loss)"
   ]
  },
  {
   "cell_type": "markdown",
   "id": "d721e14b-3d8b-4a49-8aba-10084a1632fb",
   "metadata": {},
   "source": [
    "# Testing"
   ]
  },
  {
   "cell_type": "code",
   "execution_count": 803,
   "id": "3de815ee-caf5-4a01-85ed-10df684bd152",
   "metadata": {},
   "outputs": [
    {
     "name": "stderr",
     "output_type": "stream",
     "text": [
      "/opt/conda/lib/python3.9/site-packages/torch/nn/functional.py:1806: UserWarning: nn.functional.sigmoid is deprecated. Use torch.sigmoid instead.\n",
      "  warnings.warn(\"nn.functional.sigmoid is deprecated. Use torch.sigmoid instead.\")\n"
     ]
    }
   ],
   "source": [
    "model.eval()\n",
    "label_pred = model.forward(X_test)\n",
    "label_pred = label_pred.detach().numpy()\n",
    "lens_preds = [(i,label_pred[i,1]) for i,y in enumerate(Y_test[:,1]) if y == 1 ]"
   ]
  },
  {
   "cell_type": "code",
   "execution_count": 804,
   "id": "d794aedd-61ab-49e7-b24f-09c5aee725f9",
   "metadata": {},
   "outputs": [
    {
     "data": {
      "text/plain": [
       "Text(0, 0.5, 'score')"
      ]
     },
     "execution_count": 804,
     "metadata": {},
     "output_type": "execute_result"
    },
    {
     "data": {
      "image/png": "[encoded data removed]",
      "text/plain": [
       "<Figure size 432x288 with 1 Axes>"
      ]
     },
     "metadata": {
      "needs_background": "light"
     },
     "output_type": "display_data"
    }
   ],
   "source": [
    "plt.scatter(range(len(label_pred)),label_pred[:,1], c = 'r')\n",
    "for x in lens_preds:\n",
    "    plt.scatter(x[0],x[1],c = 'y')\n",
    "plt.legend({'nonlenses':'r', 'lenses':'y'})\n",
    "plt.ylabel('score')"
   ]
  },
  {
   "cell_type": "code",
   "execution_count": 805,
   "id": "0cd20f2a-083d-4879-8c51-9b9fca3055d9",
   "metadata": {},
   "outputs": [
    {
     "data": {
      "image/png": "[encoded data removed]",
      "text/plain": [
       "<Figure size 432x288 with 1 Axes>"
      ]
     },
     "metadata": {
      "needs_background": "light"
     },
     "output_type": "display_data"
    }
   ],
   "source": [
    "from sklearn.metrics import PrecisionRecallDisplay\n",
    "\n",
    "y_pred = [0 if label < 0.5 else 1 for label in label_pred[:,1] ]\n",
    "y_true = Y_test[:,1]\n",
    "\n",
    "display = PrecisionRecallDisplay.from_predictions(y_true, y_pred, name=\"LinearSVC\")\n",
    "_ = display.ax_.set_title(\"2-class Precision-Recall curve\")"
   ]
  },
  {
   "cell_type": "code",
   "execution_count": null,
   "id": "32f426ed-db62-421e-bcac-40d3641b0bf5",
   "metadata": {},
   "outputs": [],
   "source": [
    "#confusion\n",
    "nb_classes = 1\n",
    "\n",
    "confusion_matrix = torch.zeros(nb_classes, nb_classes)\n",
    "with torch.no_grad():\n",
    "    for i, (inputs, classes) in enumerate(dataloaders['val']):\n",
    "        inputs = inputs.to(device)\n",
    "        classes = classes.to(device)\n",
    "        outputs = model_ft(inputs)\n",
    "        _, preds = torch.max(outputs, 1)\n",
    "        for t, p in zip(classes.view(-1), preds.view(-1)):\n",
    "                confusion_matrix[t.long(), p.long()] += 1\n",
    "\n",
    "print(confusion_matrix)"
   ]
  }
 ],
 "metadata": {
  "kernelspec": {
   "display_name": "Python 3 (ipykernel)",
   "language": "python",
   "name": "python3"
  },
  "language_info": {
   "codemirror_mode": {
    "name": "ipython",
    "version": 3
   },
   "file_extension": ".py",
   "mimetype": "text/x-python",
   "name": "python",
   "nbconvert_exporter": "python",
   "pygments_lexer": "ipython3",
   "version": "3.9.12"
  }
 },
 "nbformat": 4,
 "nbformat_minor": 5
}
